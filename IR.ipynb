{
 "cells": [
  {
   "cell_type": "code",
   "execution_count": 20,
   "metadata": {},
   "outputs": [
    {
     "name": "stderr",
     "output_type": "stream",
     "text": [
      "[nltk_data] Downloading package stopwords to\n",
      "[nltk_data]     C:\\Users\\7oda\\AppData\\Roaming\\nltk_data...\n",
      "[nltk_data]   Unzipping corpora\\stopwords.zip.\n"
     ]
    },
    {
     "data": {
      "text/plain": [
       "True"
      ]
     },
     "execution_count": 20,
     "metadata": {},
     "output_type": "execute_result"
    }
   ],
   "source": [
    "#!pip install PyPDF2\n",
    "#nltk.download('punkt')\n",
    "#nltk.download('stopwords')"
   ]
  },
  {
   "cell_type": "code",
   "execution_count": 18,
   "metadata": {},
   "outputs": [],
   "source": [
    "import PyPDF2\n",
    "from PyPDF2 import PdfFileReader\n",
    "import pandas as pd\n",
    "import os\n",
    "import nltk\n",
    "from nltk.corpus import stopwords\n"
   ]
  },
  {
   "cell_type": "code",
   "execution_count": 2,
   "metadata": {},
   "outputs": [],
   "source": [
    "def files():\n",
    "    directory = \"C:\\\\Users\\\\7oda\\\\New folder\\\\Query-Optimization\\\\files\\\\\"\n",
    "    files_name = []\n",
    "    for sample in os.listdir(directory):\n",
    "        files_name.append(sample)\n",
    "    return files_name"
   ]
  },
  {
   "cell_type": "code",
   "execution_count": 22,
   "metadata": {},
   "outputs": [
    {
     "name": "stdout",
     "output_type": "stream",
     "text": [
      "Artificial Intelligince.pdf\n",
      "19\n",
      "Do the Work_ Overcome Resistance and Get Out of Your Own Way ( PDFDrive ).pdf\n",
      "57\n",
      "RH_StudyGuide_V2.pdf\n",
      "32\n"
     ]
    },
    {
     "name": "stderr",
     "output_type": "stream",
     "text": [
      "PdfReadWarning: Xref table not zero-indexed. ID numbers for objects will be corrected. [pdf.py:1736]\n"
     ]
    },
    {
     "name": "stdout",
     "output_type": "stream",
     "text": [
      "The Gifts of Imperfection_ Embrace Who You Are ( PDFDrive ).pdf\n",
      "98\n"
     ]
    }
   ],
   "source": [
    "\n",
    "#Creating a pdf file object\n",
    "#pdf = open(\"1.pdf\",\"rb\")\n",
    "\n",
    "#creating pdf reader object\n",
    "#pdf_reader = PyPDF2.PdfFileReader(pdf)\n",
    "\n",
    "#checking number of pages in a pdf file\n",
    "#files_list =[]\n",
    "files_list = files()\n",
    "#creating a page object\n",
    "df1= pd.DataFrame()#\n",
    "df2= pd.DataFrame()#\n",
    "df3= pd.DataFrame()\n",
    "df4= pd.DataFrame() #df5=df6=df7=df8=df9=df10 = pd.DataFrame()\n",
    "for j in range(len(files_list)):\n",
    "    page_list=[]\n",
    "    print(files_list[j])\n",
    "    pdf = open(\"files/\"+files_list[j],\"rb\")\n",
    "    pdf_reader = PyPDF2.PdfFileReader(pdf)\n",
    "    print(pdf_reader.numPages)\n",
    "\n",
    "    for i in range (pdf_reader.numPages):\n",
    "        page = pdf_reader.getPage(i)\n",
    "        pdf_words = page.extractText()\n",
    "        page_list.append(pdf_words)\n",
    "        #print(page_list)\n",
    "    if j==0:\n",
    "        df1[files_list[j]] = page_list\n",
    "    if j==1:\n",
    "        df2[files_list[j]] = page_list\n",
    "    if j==2:\n",
    "        df3[files_list[j]] = page_list\n",
    "    if j==3:\n",
    "        df4[files_list[j]] = page_list\n",
    "    if j==4:\n",
    "        df5[files_list[j]] = page_list\n",
    "    if j==5:\n",
    "        df6[files_list[j]] = page_list\n",
    "    if j==6:\n",
    "        df7[files_list[j]] = page_list\n",
    "    if j==7:\n",
    "        df8[files_list[j]] = page_list\n",
    "    if j==8:\n",
    "        df9[files_list[j]] = page_list\n",
    "    if j==9:\n",
    "        df10[files_list[j]] = page_list\n",
    "# Please note that the function above doesn’t work for scanned PDFs.\n",
    "\n",
    "#finally extracting text from the page\n",
    "#pdf_words = page.extractText()\n",
    "#print(\"\\n\\n\\n\\n\\n_____________________________________________\")\n",
    "#print(page_list)\n",
    "#df = pd.DataFrame({str(i):text})\n",
    "\n",
    "#closing the pdf file\n",
    "pdf.close()"
   ]
  },
  {
   "cell_type": "code",
   "execution_count": 67,
   "metadata": {
    "scrolled": true
   },
   "outputs": [],
   "source": [
    "df = pd.concat([df1,df2,df3,df4], axis=1)"
   ]
  },
  {
   "cell_type": "code",
   "execution_count": 68,
   "metadata": {},
   "outputs": [],
   "source": [
    "#this cell runs only one time\n",
    "# if you want to run again go back from the previous cell\n",
    "\n",
    "files_list = files()\n",
    "stop = stopwords.words('english')\n",
    "for i in  files_list:\n",
    "    # convert to lower case\n",
    "    df[i] = df[i].str.lower()\n",
    "    # removing puncituations\n",
    "    df[i] = df[i].str.replace('[^\\w\\s]','')\n",
    "    #convert to string\n",
    "    df[i] = df[i].apply(str)\n",
    "    # tokenize\n",
    "    df[i] = df[i].apply(nltk.word_tokenize)\n",
    "    # removing stop words\n",
    "    df[i].apply(lambda x: [item for item in x if item not in stop])\n",
    "    \n",
    "    #df[i]= df[i].str.splitlines() \n",
    "    #df[i].apply(lambda x: (word for word in x.str.splitlines()))\n",
    "    "
   ]
  },
  {
   "cell_type": "code",
   "execution_count": 69,
   "metadata": {},
   "outputs": [],
   "source": [
    "#b = pd.DataFrame(df[\"Artificial Intelligince.pdf\"].str.split('\\n').values.tolist()).stack()\n",
    "#b = DataFrame(a.var1.str.split(',').values.tolist(), index=a.var2).stack()\n",
    "#b = b.reset_index()[[0, 'var2']]"
   ]
  },
  {
   "cell_type": "code",
   "execution_count": 29,
   "metadata": {},
   "outputs": [],
   "source": [
    "#df.iloc[0][0]"
   ]
  },
  {
   "cell_type": "code",
   "execution_count": 70,
   "metadata": {},
   "outputs": [
    {
     "data": {
      "text/html": [
       "<div>\n",
       "<style scoped>\n",
       "    .dataframe tbody tr th:only-of-type {\n",
       "        vertical-align: middle;\n",
       "    }\n",
       "\n",
       "    .dataframe tbody tr th {\n",
       "        vertical-align: top;\n",
       "    }\n",
       "\n",
       "    .dataframe thead th {\n",
       "        text-align: right;\n",
       "    }\n",
       "</style>\n",
       "<table border=\"1\" class=\"dataframe\">\n",
       "  <thead>\n",
       "    <tr style=\"text-align: right;\">\n",
       "      <th></th>\n",
       "      <th>Artificial Intelligince.pdf</th>\n",
       "      <th>Do the Work_ Overcome Resistance and Get Out of Your Own Way ( PDFDrive ).pdf</th>\n",
       "      <th>RH_StudyGuide_V2.pdf</th>\n",
       "      <th>The Gifts of Imperfection_ Embrace Who You Are ( PDFDrive ).pdf</th>\n",
       "    </tr>\n",
       "  </thead>\n",
       "  <tbody>\n",
       "    <tr>\n",
       "      <th>0</th>\n",
       "      <td>[0, career, path, description, the, artificial...</td>\n",
       "      <td>[do, the, work]</td>\n",
       "      <td>[a, true, story, about, why, we, sabotage, our...</td>\n",
       "      <td>[]</td>\n",
       "    </tr>\n",
       "    <tr>\n",
       "      <th>1</th>\n",
       "      <td>[learning, objectives, after, completing, this...</td>\n",
       "      <td>[do, the, work, overcome, resistance, and, get...</td>\n",
       "      <td>[study, guide, resisting, happinesscopyright, ...</td>\n",
       "      <td>[]</td>\n",
       "    </tr>\n",
       "    <tr>\n",
       "      <th>2</th>\n",
       "      <td>[skill, level, basic, ð, intermediate, hardwar...</td>\n",
       "      <td>[do, the, work, 2011, steven, pres, eld, e, do...</td>\n",
       "      <td>[table, of, contents, introduction, 4study, gu...</td>\n",
       "      <td>[]</td>\n",
       "    </tr>\n",
       "    <tr>\n",
       "      <th>3</th>\n",
       "      <td>[unit, 1, introduction, to, artificial, intell...</td>\n",
       "      <td>[for, ellie]</td>\n",
       "      <td>[4introduction, e, right, book, at, the, right...</td>\n",
       "      <td>[]</td>\n",
       "    </tr>\n",
       "    <tr>\n",
       "      <th>4</th>\n",
       "      <td>[module, ii, ð, prerequisites, course, i, ð, i...</td>\n",
       "      <td>[in, this, manifesto, steve, gets, practical, ...</td>\n",
       "      <td>[5study, guide, purpose, and, format, e, purpo...</td>\n",
       "      <td>[]</td>\n",
       "    </tr>\n",
       "    <tr>\n",
       "      <th>...</th>\n",
       "      <td>...</td>\n",
       "      <td>...</td>\n",
       "      <td>...</td>\n",
       "      <td>...</td>\n",
       "    </tr>\n",
       "    <tr>\n",
       "      <th>93</th>\n",
       "      <td>[nan]</td>\n",
       "      <td>[nan]</td>\n",
       "      <td>[nan]</td>\n",
       "      <td>[]</td>\n",
       "    </tr>\n",
       "    <tr>\n",
       "      <th>94</th>\n",
       "      <td>[nan]</td>\n",
       "      <td>[nan]</td>\n",
       "      <td>[nan]</td>\n",
       "      <td>[]</td>\n",
       "    </tr>\n",
       "    <tr>\n",
       "      <th>95</th>\n",
       "      <td>[nan]</td>\n",
       "      <td>[nan]</td>\n",
       "      <td>[nan]</td>\n",
       "      <td>[]</td>\n",
       "    </tr>\n",
       "    <tr>\n",
       "      <th>96</th>\n",
       "      <td>[nan]</td>\n",
       "      <td>[nan]</td>\n",
       "      <td>[nan]</td>\n",
       "      <td>[]</td>\n",
       "    </tr>\n",
       "    <tr>\n",
       "      <th>97</th>\n",
       "      <td>[nan]</td>\n",
       "      <td>[nan]</td>\n",
       "      <td>[nan]</td>\n",
       "      <td>[]</td>\n",
       "    </tr>\n",
       "  </tbody>\n",
       "</table>\n",
       "<p>98 rows × 4 columns</p>\n",
       "</div>"
      ],
      "text/plain": [
       "                          Artificial Intelligince.pdf  \\\n",
       "0   [0, career, path, description, the, artificial...   \n",
       "1   [learning, objectives, after, completing, this...   \n",
       "2   [skill, level, basic, ð, intermediate, hardwar...   \n",
       "3   [unit, 1, introduction, to, artificial, intell...   \n",
       "4   [module, ii, ð, prerequisites, course, i, ð, i...   \n",
       "..                                                ...   \n",
       "93                                              [nan]   \n",
       "94                                              [nan]   \n",
       "95                                              [nan]   \n",
       "96                                              [nan]   \n",
       "97                                              [nan]   \n",
       "\n",
       "   Do the Work_ Overcome Resistance and Get Out of Your Own Way ( PDFDrive ).pdf  \\\n",
       "0                                     [do, the, work]                              \n",
       "1   [do, the, work, overcome, resistance, and, get...                              \n",
       "2   [do, the, work, 2011, steven, pres, eld, e, do...                              \n",
       "3                                        [for, ellie]                              \n",
       "4   [in, this, manifesto, steve, gets, practical, ...                              \n",
       "..                                                ...                              \n",
       "93                                              [nan]                              \n",
       "94                                              [nan]                              \n",
       "95                                              [nan]                              \n",
       "96                                              [nan]                              \n",
       "97                                              [nan]                              \n",
       "\n",
       "                                 RH_StudyGuide_V2.pdf  \\\n",
       "0   [a, true, story, about, why, we, sabotage, our...   \n",
       "1   [study, guide, resisting, happinesscopyright, ...   \n",
       "2   [table, of, contents, introduction, 4study, gu...   \n",
       "3   [4introduction, e, right, book, at, the, right...   \n",
       "4   [5study, guide, purpose, and, format, e, purpo...   \n",
       "..                                                ...   \n",
       "93                                              [nan]   \n",
       "94                                              [nan]   \n",
       "95                                              [nan]   \n",
       "96                                              [nan]   \n",
       "97                                              [nan]   \n",
       "\n",
       "   The Gifts of Imperfection_ Embrace Who You Are ( PDFDrive ).pdf  \n",
       "0                                                  []               \n",
       "1                                                  []               \n",
       "2                                                  []               \n",
       "3                                                  []               \n",
       "4                                                  []               \n",
       "..                                                ...               \n",
       "93                                                 []               \n",
       "94                                                 []               \n",
       "95                                                 []               \n",
       "96                                                 []               \n",
       "97                                                 []               \n",
       "\n",
       "[98 rows x 4 columns]"
      ]
     },
     "execution_count": 70,
     "metadata": {},
     "output_type": "execute_result"
    }
   ],
   "source": [
    "df"
   ]
  },
  {
   "cell_type": "code",
   "execution_count": null,
   "metadata": {},
   "outputs": [],
   "source": []
  }
 ],
 "metadata": {
  "kernelspec": {
   "display_name": "Python 3",
   "language": "python",
   "name": "python3"
  },
  "language_info": {
   "codemirror_mode": {
    "name": "ipython",
    "version": 3
   },
   "file_extension": ".py",
   "mimetype": "text/x-python",
   "name": "python",
   "nbconvert_exporter": "python",
   "pygments_lexer": "ipython3",
   "version": "3.7.6"
  }
 },
 "nbformat": 4,
 "nbformat_minor": 4
}
